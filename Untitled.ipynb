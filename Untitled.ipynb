{
 "cells": [
  {
   "cell_type": "code",
   "execution_count": 2,
   "metadata": {},
   "outputs": [
    {
     "name": "stdout",
     "output_type": "stream",
     "text": [
      "<class 'numpy.ndarray'>\n",
      "[[-0.02178508 -0.12075925 -0.15734482 ... -0.02172772 -0.29713316\n",
      "  -0.87437937]\n",
      " [-0.02178508 -0.12075925 -0.15734482 ... -0.02172772 -0.36784148\n",
      "  -0.204804  ]\n",
      " [-0.02178508 -0.12075925 -0.15734482 ... -0.02172772  0.93142394\n",
      "  -0.74952978]\n",
      " ...\n",
      " [-0.02178508 -0.12075925 -0.15734482 ... -0.02172772  0.01221575\n",
      "  -0.06800348]\n",
      " [-0.02178508 -0.12075925 -0.15734482 ... -0.02172772  0.44530423\n",
      "  -0.45601051]\n",
      " [-0.02178508 -0.12075925 -0.15734482 ... -0.02172772  0.9225854\n",
      "   2.60801548]]\n"
     ]
    }
   ],
   "source": [
    "import sklearn.externals\n",
    "import joblib\n",
    "from catboost import CatBoostClassifier\n",
    "import pandas as pd\n",
    "import numpy as np\n",
    "from sklearn.metrics import classification_report, f1_score\n",
    "from sklearn.preprocessing import StandardScaler\n",
    "import dask.dataframe as dd\n",
    "\n",
    "data_test = pd.read_csv(\"data_test.csv\", index_col=0)\n",
    "data_train = pd.read_csv(\"data_train.csv\", index_col=0)\n",
    "features = dd.read_csv(\"features.csv\", sep=\"\\t\").set_index(\"Unnamed: 0\")\n",
    "\n",
    "test_ids = data_test.id.to_list()\n",
    "train_ids = data_train.id.to_list()\n",
    "train_and_test = list(set(train_ids + test_ids))\n",
    "feat_comm = features.loc[features[\"id\"].isin(train_and_test), :]\n",
    "#data_test_dd = dd.from_pandas(data_test, npartitions=1)\n",
    "#X_test = data_test_dd.merge(feat_comm, on=['id','buy_time'])\n",
    "data_train_dd = dd.from_pandas(data_train, npartitions=1)\n",
    "X = data_train_dd.merge(feat_comm, on=['id','buy_time'])\n",
    "X = X.compute().reset_index()\n",
    "y = X['target']\n",
    "X = X.drop('target', axis=1)\n",
    "\n",
    "from sklearn.model_selection import train_test_split\n",
    "train_idx, test_idx = train_test_split(X.index, random_state=42, test_size=0.35)\n",
    "y_train, y_test = y.loc[train_idx], y.loc[test_idx]\n",
    "X_train, X_test = X.loc[train_idx], X.loc[test_idx]\n",
    "\n",
    "scaler = StandardScaler()\n",
    "all_features = X_test.columns.tolist()\n",
    "X_nunique = X_test.apply(lambda x: x.nunique(dropna=False))\n",
    "const_feat = X_nunique[X_nunique == 1].index.tolist()\n",
    "selected = list(set(all_features) - set(const_feat))\n",
    "bin_feat = set(X.loc[:,selected].columns[((X.loc[:,selected].min()==0) &\\\n",
    "                                               (X.loc[:,selected].max()==1) &\\\n",
    "                                               (X.loc[:,selected].isnull().sum()==0))])\n",
    "\n",
    "selected = list(set(selected) - bin_feat)\n",
    "#X_test_scaled = scaler.fit_transform(X_test.loc[:,selected])\n",
    "X_train_scaled = scaler.fit_transform(X_train.loc[:,selected])\n",
    "X_test_scaled = scaler.transform(X_test.loc[:,selected])\n",
    "print(type(X_test_scaled))\n",
    "print(X_test_scaled)"
   ]
  },
  {
   "cell_type": "code",
   "execution_count": 9,
   "metadata": {},
   "outputs": [],
   "source": [
    "def fit_model(X_train, y_train, X_valid, y_valid, feature_names):\n",
    "    from pprint import pprint\n",
    "    model = CatBoostClassifier(n_estimators=2400, max_depth=10, eval_metric='Precision',\\\n",
    "    random_state=42, class_weights=[0.1, 10], task_type=\"CPU\")\n",
    "    model.fit(X_train, y_train, verbose=False, eval_set=(X_valid, y_valid), use_best_model=True)\n",
    "    model.save_model(\"catboost.model\")\n",
    "    \n",
    "def predict_model(X_valid, y_valid, feature_names):\n",
    "    saved_model = CatBoostClassifier(n_estimators=2400, max_depth=10, eval_metric='Precision',\\\n",
    "    random_state=42, class_weights=[0.1, 10], task_type=\"CPU\")\n",
    "    saved_model.load_model(\"catboost.model\")\n",
    "    y_pred = saved_model.predict(X_valid)\n",
    "    print(\"-------------------------------------------\")\n",
    "    print(\"F1 Score: {}\".format(np.round(f1_score(y_valid, y_pred, average='macro'),3)))\n",
    "    print(\"-------------------------------------------\")\n",
    "    print(classification_report(y_valid, y_pred > 0.5))"
   ]
  },
  {
   "cell_type": "code",
   "execution_count": null,
   "metadata": {},
   "outputs": [],
   "source": [
    "fit_model(X_train_scaled, y_train, X_test_scaled, y_test, X_train.loc[:,selected].columns)"
   ]
  },
  {
   "cell_type": "code",
   "execution_count": 10,
   "metadata": {},
   "outputs": [
    {
     "name": "stdout",
     "output_type": "stream",
     "text": [
      "-------------------------------------------\n",
      "F1 Score: 0.724\n",
      "-------------------------------------------\n",
      "              precision    recall  f1-score   support\n",
      "\n",
      "         0.0       0.99      0.90      0.94     12700\n",
      "         1.0       0.37      0.83      0.51       922\n",
      "\n",
      "    accuracy                           0.89     13622\n",
      "   macro avg       0.68      0.86      0.72     13622\n",
      "weighted avg       0.94      0.89      0.91     13622\n",
      "\n"
     ]
    }
   ],
   "source": [
    "predict_model(X_test_scaled, y_test, X_train.loc[:,selected].columns)"
   ]
  },
  {
   "cell_type": "code",
   "execution_count": null,
   "metadata": {},
   "outputs": [],
   "source": []
  }
 ],
 "metadata": {
  "kernelspec": {
   "display_name": "Python 3",
   "language": "python",
   "name": "python3"
  },
  "language_info": {
   "codemirror_mode": {
    "name": "ipython",
    "version": 3
   },
   "file_extension": ".py",
   "mimetype": "text/x-python",
   "name": "python",
   "nbconvert_exporter": "python",
   "pygments_lexer": "ipython3",
   "version": "3.8.5"
  }
 },
 "nbformat": 4,
 "nbformat_minor": 4
}
